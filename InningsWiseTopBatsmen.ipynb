{
 "cells": [
  {
   "cell_type": "markdown",
   "id": "a9077b27",
   "metadata": {},
   "source": [
    "## Problem Statement: To find top 3 batsmen innings wise in IPL"
   ]
  },
  {
   "cell_type": "markdown",
   "id": "272517e9",
   "metadata": {},
   "source": [
    "Importing required libraries"
   ]
  },
  {
   "cell_type": "code",
   "execution_count": 1,
   "id": "1f848280",
   "metadata": {},
   "outputs": [],
   "source": [
    "import numpy as np\n",
    "import pandas as pd\n",
    "import matplotlib.pyplot as plt"
   ]
  },
  {
   "cell_type": "code",
   "execution_count": 2,
   "id": "d82e0a59",
   "metadata": {},
   "outputs": [],
   "source": [
    "import warnings\n",
    "warnings.filterwarnings('ignore')"
   ]
  },
  {
   "cell_type": "code",
   "execution_count": 3,
   "id": "f6a1d693",
   "metadata": {},
   "outputs": [],
   "source": [
    "pd.set_option('display.max_rows',None)\n",
    "pd.set_option('display.max_columns',None)\n",
    "pd.set_option('display.expand_frame_repr',False)\n",
    "pd.set_option('max_colwidth',-1)"
   ]
  },
  {
   "cell_type": "markdown",
   "id": "99ad6910",
   "metadata": {},
   "source": [
    "Importing dataset "
   ]
  },
  {
   "cell_type": "code",
   "execution_count": 7,
   "id": "df77f789",
   "metadata": {},
   "outputs": [],
   "source": [
    "deliveries = pd.read_csv('IPL Ball-by-Ball 2008-2020.csv')"
   ]
  },
  {
   "cell_type": "markdown",
   "id": "5babeed8",
   "metadata": {},
   "source": [
    "Using a copy of dataset"
   ]
  },
  {
   "cell_type": "code",
   "execution_count": 8,
   "id": "8e3fbfa2",
   "metadata": {},
   "outputs": [],
   "source": [
    "df = deliveries.copy()"
   ]
  },
  {
   "cell_type": "code",
   "execution_count": 9,
   "id": "3db31487",
   "metadata": {},
   "outputs": [
    {
     "data": {
      "text/html": [
       "<div>\n",
       "<style scoped>\n",
       "    .dataframe tbody tr th:only-of-type {\n",
       "        vertical-align: middle;\n",
       "    }\n",
       "\n",
       "    .dataframe tbody tr th {\n",
       "        vertical-align: top;\n",
       "    }\n",
       "\n",
       "    .dataframe thead th {\n",
       "        text-align: right;\n",
       "    }\n",
       "</style>\n",
       "<table border=\"1\" class=\"dataframe\">\n",
       "  <thead>\n",
       "    <tr style=\"text-align: right;\">\n",
       "      <th></th>\n",
       "      <th>id</th>\n",
       "      <th>inning</th>\n",
       "      <th>over</th>\n",
       "      <th>ball</th>\n",
       "      <th>batsman</th>\n",
       "      <th>non_striker</th>\n",
       "      <th>bowler</th>\n",
       "      <th>batsman_runs</th>\n",
       "      <th>extra_runs</th>\n",
       "      <th>total_runs</th>\n",
       "      <th>non_boundary</th>\n",
       "      <th>is_wicket</th>\n",
       "      <th>dismissal_kind</th>\n",
       "      <th>player_dismissed</th>\n",
       "      <th>fielder</th>\n",
       "      <th>extras_type</th>\n",
       "      <th>batting_team</th>\n",
       "      <th>bowling_team</th>\n",
       "    </tr>\n",
       "  </thead>\n",
       "  <tbody>\n",
       "    <tr>\n",
       "      <th>0</th>\n",
       "      <td>335982</td>\n",
       "      <td>1</td>\n",
       "      <td>6</td>\n",
       "      <td>5</td>\n",
       "      <td>RT Ponting</td>\n",
       "      <td>BB McCullum</td>\n",
       "      <td>AA Noffke</td>\n",
       "      <td>1</td>\n",
       "      <td>0</td>\n",
       "      <td>1</td>\n",
       "      <td>0</td>\n",
       "      <td>0</td>\n",
       "      <td>NaN</td>\n",
       "      <td>NaN</td>\n",
       "      <td>NaN</td>\n",
       "      <td>NaN</td>\n",
       "      <td>Kolkata Knight Riders</td>\n",
       "      <td>Royal Challengers Bangalore</td>\n",
       "    </tr>\n",
       "    <tr>\n",
       "      <th>1</th>\n",
       "      <td>335982</td>\n",
       "      <td>1</td>\n",
       "      <td>6</td>\n",
       "      <td>6</td>\n",
       "      <td>BB McCullum</td>\n",
       "      <td>RT Ponting</td>\n",
       "      <td>AA Noffke</td>\n",
       "      <td>1</td>\n",
       "      <td>0</td>\n",
       "      <td>1</td>\n",
       "      <td>0</td>\n",
       "      <td>0</td>\n",
       "      <td>NaN</td>\n",
       "      <td>NaN</td>\n",
       "      <td>NaN</td>\n",
       "      <td>NaN</td>\n",
       "      <td>Kolkata Knight Riders</td>\n",
       "      <td>Royal Challengers Bangalore</td>\n",
       "    </tr>\n",
       "  </tbody>\n",
       "</table>\n",
       "</div>"
      ],
      "text/plain": [
       "       id  inning  over  ball      batsman  non_striker     bowler  batsman_runs  extra_runs  total_runs  non_boundary  is_wicket dismissal_kind player_dismissed fielder extras_type           batting_team                 bowling_team\n",
       "0  335982  1       6     5     RT Ponting   BB McCullum  AA Noffke  1             0           1           0             0          NaN            NaN              NaN     NaN         Kolkata Knight Riders  Royal Challengers Bangalore\n",
       "1  335982  1       6     6     BB McCullum  RT Ponting   AA Noffke  1             0           1           0             0          NaN            NaN              NaN     NaN         Kolkata Knight Riders  Royal Challengers Bangalore"
      ]
     },
     "execution_count": 9,
     "metadata": {},
     "output_type": "execute_result"
    }
   ],
   "source": [
    "df.head(2)"
   ]
  },
  {
   "cell_type": "markdown",
   "id": "cf8d2f9c",
   "metadata": {},
   "source": [
    "Getting the required data from gievn data i.e. cleaning of data"
   ]
  },
  {
   "cell_type": "code",
   "execution_count": 15,
   "id": "0e27de86",
   "metadata": {},
   "outputs": [],
   "source": [
    "def byInning(df,current_inning):\n",
    "    df = df[df.inning == current_inning]\n",
    "    df.reset_index(inplace = True, drop = True)\n",
    "    \n",
    "    runs = pd.DataFrame(df.groupby(['batsman'])['batsman_runs'].sum()).reset_index().rename(columns = {'batsman_runs':'runs'})\n",
    "    balls = pd.DataFrame(df.groupby(['batsman'])['id'].count()).reset_index().rename(columns = {'id':'balls'})\n",
    "    inning = pd.DataFrame(df.groupby(['batsman'])['id'].apply(lambda x: len(list(np.unique(x))))).reset_index().rename(columns = {'id':'innings'})\n",
    "    \n",
    "    df = pd.merge(inning, runs, on = 'batsman').merge(balls, on = 'batsman')\n",
    "    \n",
    "    df['SR'] = df.apply(lambda x: 100*x['runs']/x['balls'], axis = 1)\n",
    "    \n",
    "    return df"
   ]
  },
  {
   "cell_type": "markdown",
   "id": "41b88ae6",
   "metadata": {},
   "source": [
    "Required data 1"
   ]
  },
  {
   "cell_type": "code",
   "execution_count": 79,
   "id": "30a22ea0",
   "metadata": {},
   "outputs": [],
   "source": [
    "ing1_df = byInning(df,1)"
   ]
  },
  {
   "cell_type": "code",
   "execution_count": 80,
   "id": "268ddd0e",
   "metadata": {},
   "outputs": [
    {
     "data": {
      "text/html": [
       "<div>\n",
       "<style scoped>\n",
       "    .dataframe tbody tr th:only-of-type {\n",
       "        vertical-align: middle;\n",
       "    }\n",
       "\n",
       "    .dataframe tbody tr th {\n",
       "        vertical-align: top;\n",
       "    }\n",
       "\n",
       "    .dataframe thead th {\n",
       "        text-align: right;\n",
       "    }\n",
       "</style>\n",
       "<table border=\"1\" class=\"dataframe\">\n",
       "  <thead>\n",
       "    <tr style=\"text-align: right;\">\n",
       "      <th></th>\n",
       "      <th>batsman</th>\n",
       "      <th>innings</th>\n",
       "      <th>runs</th>\n",
       "      <th>balls</th>\n",
       "      <th>SR</th>\n",
       "    </tr>\n",
       "  </thead>\n",
       "  <tbody>\n",
       "    <tr>\n",
       "      <th>0</th>\n",
       "      <td>A Ashish Reddy</td>\n",
       "      <td>13</td>\n",
       "      <td>166</td>\n",
       "      <td>115</td>\n",
       "      <td>144.347826</td>\n",
       "    </tr>\n",
       "    <tr>\n",
       "      <th>1</th>\n",
       "      <td>A Chandila</td>\n",
       "      <td>2</td>\n",
       "      <td>4</td>\n",
       "      <td>7</td>\n",
       "      <td>57.142857</td>\n",
       "    </tr>\n",
       "    <tr>\n",
       "      <th>2</th>\n",
       "      <td>A Chopra</td>\n",
       "      <td>5</td>\n",
       "      <td>51</td>\n",
       "      <td>72</td>\n",
       "      <td>70.833333</td>\n",
       "    </tr>\n",
       "    <tr>\n",
       "      <th>3</th>\n",
       "      <td>A Choudhary</td>\n",
       "      <td>1</td>\n",
       "      <td>15</td>\n",
       "      <td>12</td>\n",
       "      <td>125.000000</td>\n",
       "    </tr>\n",
       "    <tr>\n",
       "      <th>4</th>\n",
       "      <td>A Dananjaya</td>\n",
       "      <td>1</td>\n",
       "      <td>4</td>\n",
       "      <td>5</td>\n",
       "      <td>80.000000</td>\n",
       "    </tr>\n",
       "  </tbody>\n",
       "</table>\n",
       "</div>"
      ],
      "text/plain": [
       "          batsman  innings  runs  balls          SR\n",
       "0  A Ashish Reddy  13       166   115    144.347826\n",
       "1  A Chandila      2        4     7      57.142857 \n",
       "2  A Chopra        5        51    72     70.833333 \n",
       "3  A Choudhary     1        15    12     125.000000\n",
       "4  A Dananjaya     1        4     5      80.000000 "
      ]
     },
     "execution_count": 80,
     "metadata": {},
     "output_type": "execute_result"
    }
   ],
   "source": [
    "ing1_df.head()"
   ]
  },
  {
   "cell_type": "markdown",
   "id": "14682b61",
   "metadata": {},
   "source": [
    "Required data 2"
   ]
  },
  {
   "cell_type": "code",
   "execution_count": 76,
   "id": "56e57b26",
   "metadata": {},
   "outputs": [],
   "source": [
    "ing2_df = byInning(df,2)"
   ]
  },
  {
   "cell_type": "code",
   "execution_count": 75,
   "id": "0396ff9d",
   "metadata": {},
   "outputs": [
    {
     "data": {
      "text/html": [
       "<div>\n",
       "<style scoped>\n",
       "    .dataframe tbody tr th:only-of-type {\n",
       "        vertical-align: middle;\n",
       "    }\n",
       "\n",
       "    .dataframe tbody tr th {\n",
       "        vertical-align: top;\n",
       "    }\n",
       "\n",
       "    .dataframe thead th {\n",
       "        text-align: right;\n",
       "    }\n",
       "</style>\n",
       "<table border=\"1\" class=\"dataframe\">\n",
       "  <thead>\n",
       "    <tr style=\"text-align: right;\">\n",
       "      <th></th>\n",
       "      <th>innings</th>\n",
       "      <th>runs</th>\n",
       "      <th>balls</th>\n",
       "      <th>SR</th>\n",
       "    </tr>\n",
       "    <tr>\n",
       "      <th>batsman</th>\n",
       "      <th></th>\n",
       "      <th></th>\n",
       "      <th></th>\n",
       "      <th></th>\n",
       "    </tr>\n",
       "  </thead>\n",
       "  <tbody>\n",
       "    <tr>\n",
       "      <th>K Gowtham</th>\n",
       "      <td>11</td>\n",
       "      <td>136</td>\n",
       "      <td>76</td>\n",
       "      <td>178.947368</td>\n",
       "    </tr>\n",
       "    <tr>\n",
       "      <th>N Pooran</th>\n",
       "      <td>11</td>\n",
       "      <td>325</td>\n",
       "      <td>185</td>\n",
       "      <td>175.675676</td>\n",
       "    </tr>\n",
       "    <tr>\n",
       "      <th>SM Curran</th>\n",
       "      <td>10</td>\n",
       "      <td>92</td>\n",
       "      <td>56</td>\n",
       "      <td>164.285714</td>\n",
       "    </tr>\n",
       "    <tr>\n",
       "      <th>AD Russell</th>\n",
       "      <td>31</td>\n",
       "      <td>679</td>\n",
       "      <td>420</td>\n",
       "      <td>161.666667</td>\n",
       "    </tr>\n",
       "    <tr>\n",
       "      <th>Bipul Sharma</th>\n",
       "      <td>8</td>\n",
       "      <td>119</td>\n",
       "      <td>74</td>\n",
       "      <td>160.810811</td>\n",
       "    </tr>\n",
       "  </tbody>\n",
       "</table>\n",
       "</div>"
      ],
      "text/plain": [
       "              innings  runs  balls          SR\n",
       "batsman                                       \n",
       "K Gowtham     11       136   76     178.947368\n",
       "N Pooran      11       325   185    175.675676\n",
       "SM Curran     10       92    56     164.285714\n",
       "AD Russell    31       679   420    161.666667\n",
       "Bipul Sharma  8        119   74     160.810811"
      ]
     },
     "execution_count": 75,
     "metadata": {},
     "output_type": "execute_result"
    }
   ],
   "source": [
    "ing2_df.head()"
   ]
  },
  {
   "cell_type": "markdown",
   "id": "10464454",
   "metadata": {},
   "source": [
    "Now we will start actual analysis of data"
   ]
  },
  {
   "cell_type": "code",
   "execution_count": 30,
   "id": "e1d43c6b",
   "metadata": {},
   "outputs": [],
   "source": [
    "ing1_df = ing1_df[(ing1_df.innings >= 5) & (ing1_df.balls >= 30)]"
   ]
  },
  {
   "cell_type": "code",
   "execution_count": 31,
   "id": "51866bb0",
   "metadata": {},
   "outputs": [],
   "source": [
    "ing1_df = ing1_df.sort_values(by = 'SR', ascending = False)"
   ]
  },
  {
   "cell_type": "code",
   "execution_count": 32,
   "id": "ed2df18e",
   "metadata": {},
   "outputs": [
    {
     "data": {
      "text/html": [
       "<div>\n",
       "<style scoped>\n",
       "    .dataframe tbody tr th:only-of-type {\n",
       "        vertical-align: middle;\n",
       "    }\n",
       "\n",
       "    .dataframe tbody tr th {\n",
       "        vertical-align: top;\n",
       "    }\n",
       "\n",
       "    .dataframe thead th {\n",
       "        text-align: right;\n",
       "    }\n",
       "</style>\n",
       "<table border=\"1\" class=\"dataframe\">\n",
       "  <thead>\n",
       "    <tr style=\"text-align: right;\">\n",
       "      <th></th>\n",
       "      <th>batsman</th>\n",
       "      <th>innings</th>\n",
       "      <th>runs</th>\n",
       "      <th>balls</th>\n",
       "      <th>SR</th>\n",
       "    </tr>\n",
       "  </thead>\n",
       "  <tbody>\n",
       "    <tr>\n",
       "      <th>30</th>\n",
       "      <td>AD Russell</td>\n",
       "      <td>30</td>\n",
       "      <td>838</td>\n",
       "      <td>462</td>\n",
       "      <td>181.385281</td>\n",
       "    </tr>\n",
       "    <tr>\n",
       "      <th>202</th>\n",
       "      <td>KK Cooper</td>\n",
       "      <td>6</td>\n",
       "      <td>54</td>\n",
       "      <td>31</td>\n",
       "      <td>174.193548</td>\n",
       "    </tr>\n",
       "    <tr>\n",
       "      <th>259</th>\n",
       "      <td>MM Ali</td>\n",
       "      <td>11</td>\n",
       "      <td>271</td>\n",
       "      <td>159</td>\n",
       "      <td>170.440252</td>\n",
       "    </tr>\n",
       "    <tr>\n",
       "      <th>268</th>\n",
       "      <td>MS Gony</td>\n",
       "      <td>7</td>\n",
       "      <td>68</td>\n",
       "      <td>40</td>\n",
       "      <td>170.000000</td>\n",
       "    </tr>\n",
       "    <tr>\n",
       "      <th>83</th>\n",
       "      <td>C de Grandhomme</td>\n",
       "      <td>10</td>\n",
       "      <td>133</td>\n",
       "      <td>79</td>\n",
       "      <td>168.354430</td>\n",
       "    </tr>\n",
       "  </tbody>\n",
       "</table>\n",
       "</div>"
      ],
      "text/plain": [
       "             batsman  innings  runs  balls          SR\n",
       "30   AD Russell       30       838   462    181.385281\n",
       "202  KK Cooper        6        54    31     174.193548\n",
       "259  MM Ali           11       271   159    170.440252\n",
       "268  MS Gony          7        68    40     170.000000\n",
       "83   C de Grandhomme  10       133   79     168.354430"
      ]
     },
     "execution_count": 32,
     "metadata": {},
     "output_type": "execute_result"
    }
   ],
   "source": [
    "ing1_df.head()"
   ]
  },
  {
   "cell_type": "code",
   "execution_count": 33,
   "id": "e66d064e",
   "metadata": {},
   "outputs": [
    {
     "data": {
      "text/html": [
       "<div>\n",
       "<style scoped>\n",
       "    .dataframe tbody tr th:only-of-type {\n",
       "        vertical-align: middle;\n",
       "    }\n",
       "\n",
       "    .dataframe tbody tr th {\n",
       "        vertical-align: top;\n",
       "    }\n",
       "\n",
       "    .dataframe thead th {\n",
       "        text-align: right;\n",
       "    }\n",
       "</style>\n",
       "<table border=\"1\" class=\"dataframe\">\n",
       "  <thead>\n",
       "    <tr style=\"text-align: right;\">\n",
       "      <th></th>\n",
       "      <th>batsman</th>\n",
       "      <th>innings</th>\n",
       "      <th>runs</th>\n",
       "      <th>balls</th>\n",
       "      <th>SR</th>\n",
       "    </tr>\n",
       "  </thead>\n",
       "  <tbody>\n",
       "    <tr>\n",
       "      <th>194</th>\n",
       "      <td>K Gowtham</td>\n",
       "      <td>11</td>\n",
       "      <td>136</td>\n",
       "      <td>76</td>\n",
       "      <td>178.947368</td>\n",
       "    </tr>\n",
       "    <tr>\n",
       "      <th>289</th>\n",
       "      <td>N Pooran</td>\n",
       "      <td>11</td>\n",
       "      <td>325</td>\n",
       "      <td>185</td>\n",
       "      <td>175.675676</td>\n",
       "    </tr>\n",
       "    <tr>\n",
       "      <th>406</th>\n",
       "      <td>SM Curran</td>\n",
       "      <td>10</td>\n",
       "      <td>92</td>\n",
       "      <td>56</td>\n",
       "      <td>164.285714</td>\n",
       "    </tr>\n",
       "    <tr>\n",
       "      <th>31</th>\n",
       "      <td>AD Russell</td>\n",
       "      <td>31</td>\n",
       "      <td>679</td>\n",
       "      <td>420</td>\n",
       "      <td>161.666667</td>\n",
       "    </tr>\n",
       "    <tr>\n",
       "      <th>82</th>\n",
       "      <td>Bipul Sharma</td>\n",
       "      <td>8</td>\n",
       "      <td>119</td>\n",
       "      <td>74</td>\n",
       "      <td>160.810811</td>\n",
       "    </tr>\n",
       "  </tbody>\n",
       "</table>\n",
       "</div>"
      ],
      "text/plain": [
       "          batsman  innings  runs  balls          SR\n",
       "194  K Gowtham     11       136   76     178.947368\n",
       "289  N Pooran      11       325   185    175.675676\n",
       "406  SM Curran     10       92    56     164.285714\n",
       "31   AD Russell    31       679   420    161.666667\n",
       "82   Bipul Sharma  8        119   74     160.810811"
      ]
     },
     "execution_count": 33,
     "metadata": {},
     "output_type": "execute_result"
    }
   ],
   "source": [
    "ing2_df = ing2_df[(ing2_df.innings >= 5) & (ing2_df.balls >= 30)]\n",
    "ing2_df = ing2_df.sort_values(by = 'SR', ascending = False)\n",
    "ing2_df.head()"
   ]
  },
  {
   "cell_type": "code",
   "execution_count": 73,
   "id": "0d2b5724",
   "metadata": {},
   "outputs": [],
   "source": [
    "ing1_df.set_index(keys='batsman', inplace = True)"
   ]
  },
  {
   "cell_type": "code",
   "execution_count": 61,
   "id": "0e97dbbf",
   "metadata": {},
   "outputs": [],
   "source": [
    "ing2_df.set_index(keys='batsman', inplace = True)"
   ]
  },
  {
   "cell_type": "code",
   "execution_count": 74,
   "id": "86e3b95c",
   "metadata": {},
   "outputs": [
    {
     "data": {
      "text/html": [
       "<div>\n",
       "<style scoped>\n",
       "    .dataframe tbody tr th:only-of-type {\n",
       "        vertical-align: middle;\n",
       "    }\n",
       "\n",
       "    .dataframe tbody tr th {\n",
       "        vertical-align: top;\n",
       "    }\n",
       "\n",
       "    .dataframe thead th {\n",
       "        text-align: right;\n",
       "    }\n",
       "</style>\n",
       "<table border=\"1\" class=\"dataframe\">\n",
       "  <thead>\n",
       "    <tr style=\"text-align: right;\">\n",
       "      <th></th>\n",
       "      <th>innings</th>\n",
       "      <th>runs</th>\n",
       "      <th>balls</th>\n",
       "      <th>SR</th>\n",
       "    </tr>\n",
       "    <tr>\n",
       "      <th>batsman</th>\n",
       "      <th></th>\n",
       "      <th></th>\n",
       "      <th></th>\n",
       "      <th></th>\n",
       "    </tr>\n",
       "  </thead>\n",
       "  <tbody>\n",
       "    <tr>\n",
       "      <th>AD Russell</th>\n",
       "      <td>30</td>\n",
       "      <td>838</td>\n",
       "      <td>462</td>\n",
       "      <td>181.385281</td>\n",
       "    </tr>\n",
       "    <tr>\n",
       "      <th>KK Cooper</th>\n",
       "      <td>6</td>\n",
       "      <td>54</td>\n",
       "      <td>31</td>\n",
       "      <td>174.193548</td>\n",
       "    </tr>\n",
       "    <tr>\n",
       "      <th>MM Ali</th>\n",
       "      <td>11</td>\n",
       "      <td>271</td>\n",
       "      <td>159</td>\n",
       "      <td>170.440252</td>\n",
       "    </tr>\n",
       "  </tbody>\n",
       "</table>\n",
       "</div>"
      ],
      "text/plain": [
       "            innings  runs  balls          SR\n",
       "batsman                                     \n",
       "AD Russell  30       838   462    181.385281\n",
       "KK Cooper   6        54    31     174.193548\n",
       "MM Ali      11       271   159    170.440252"
      ]
     },
     "execution_count": 74,
     "metadata": {},
     "output_type": "execute_result"
    }
   ],
   "source": [
    "ing1_df.head(3)"
   ]
  },
  {
   "cell_type": "code",
   "execution_count": 62,
   "id": "e7a4e4b0",
   "metadata": {},
   "outputs": [
    {
     "data": {
      "text/html": [
       "<div>\n",
       "<style scoped>\n",
       "    .dataframe tbody tr th:only-of-type {\n",
       "        vertical-align: middle;\n",
       "    }\n",
       "\n",
       "    .dataframe tbody tr th {\n",
       "        vertical-align: top;\n",
       "    }\n",
       "\n",
       "    .dataframe thead th {\n",
       "        text-align: right;\n",
       "    }\n",
       "</style>\n",
       "<table border=\"1\" class=\"dataframe\">\n",
       "  <thead>\n",
       "    <tr style=\"text-align: right;\">\n",
       "      <th></th>\n",
       "      <th>innings</th>\n",
       "      <th>runs</th>\n",
       "      <th>balls</th>\n",
       "      <th>SR</th>\n",
       "    </tr>\n",
       "    <tr>\n",
       "      <th>batsman</th>\n",
       "      <th></th>\n",
       "      <th></th>\n",
       "      <th></th>\n",
       "      <th></th>\n",
       "    </tr>\n",
       "  </thead>\n",
       "  <tbody>\n",
       "    <tr>\n",
       "      <th>K Gowtham</th>\n",
       "      <td>11</td>\n",
       "      <td>136</td>\n",
       "      <td>76</td>\n",
       "      <td>178.947368</td>\n",
       "    </tr>\n",
       "    <tr>\n",
       "      <th>N Pooran</th>\n",
       "      <td>11</td>\n",
       "      <td>325</td>\n",
       "      <td>185</td>\n",
       "      <td>175.675676</td>\n",
       "    </tr>\n",
       "    <tr>\n",
       "      <th>SM Curran</th>\n",
       "      <td>10</td>\n",
       "      <td>92</td>\n",
       "      <td>56</td>\n",
       "      <td>164.285714</td>\n",
       "    </tr>\n",
       "  </tbody>\n",
       "</table>\n",
       "</div>"
      ],
      "text/plain": [
       "           innings  runs  balls          SR\n",
       "batsman                                    \n",
       "K Gowtham  11       136   76     178.947368\n",
       "N Pooran   11       325   185    175.675676\n",
       "SM Curran  10       92    56     164.285714"
      ]
     },
     "execution_count": 62,
     "metadata": {},
     "output_type": "execute_result"
    }
   ],
   "source": [
    "ing2_df.head(3)"
   ]
  },
  {
   "cell_type": "code",
   "execution_count": 68,
   "id": "5b260614",
   "metadata": {},
   "outputs": [
    {
     "data": {
      "image/png": "[encoded data removed]",
      "text/plain": [
       "<Figure size 432x288 with 1 Axes>"
      ]
     },
     "metadata": {
      "needs_background": "light"
     },
     "output_type": "display_data"
    }
   ],
   "source": [
    "ing1_df['SR'].head(3).plot(kind='bar')\n",
    "plt.xlabel('Players')\n",
    "plt.ylabel('Strike Rates')\n",
    "plt.title('Top 3 batsman in 1st inning with at least 2 innings and 30 balls SR wise')\n",
    "plt.show()"
   ]
  },
  {
   "cell_type": "code",
   "execution_count": 70,
   "id": "b956fc97",
   "metadata": {},
   "outputs": [
    {
     "data": {
      "image/png": "[encoded data removed]",
      "text/plain": [
       "<Figure size 432x288 with 1 Axes>"
      ]
     },
     "metadata": {
      "needs_background": "light"
     },
     "output_type": "display_data"
    }
   ],
   "source": [
    "ing2_df['SR'].head(3).plot(kind='bar')\n",
    "plt.xlabel('Players')\n",
    "plt.ylabel('Strike Rates')\n",
    "plt.title('Top 3 batsman in 2nd inning with at least 2 innings and 30 balls SR wise')\n",
    "plt.show()"
   ]
  },
  {
   "cell_type": "code",
   "execution_count": null,
   "id": "a2c74ea5",
   "metadata": {},
   "outputs": [],
   "source": []
  }
 ],
 "metadata": {
  "kernelspec": {
   "display_name": "Python 3 (ipykernel)",
   "language": "python",
   "name": "python3"
  },
  "language_info": {
   "codemirror_mode": {
    "name": "ipython",
    "version": 3
   },
   "file_extension": ".py",
   "mimetype": "text/x-python",
   "name": "python",
   "nbconvert_exporter": "python",
   "pygments_lexer": "ipython3",
   "version": "3.9.7"
  }
 },
 "nbformat": 4,
 "nbformat_minor": 5
}
